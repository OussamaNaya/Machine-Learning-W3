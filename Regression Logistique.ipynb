{
 "cells": [
  {
   "cell_type": "markdown",
   "id": "d80efc72",
   "metadata": {},
   "source": [
    "# Régression logistique"
   ]
  },
  {
   "cell_type": "markdown",
   "id": "8f1247d4",
   "metadata": {},
   "source": [
    "<li>La régression logistique vise à résoudre des problèmes de classification. Pour ce faire, elle prédit des résultats catégoriques, contrairement à la régression linéaire qui prédit un résultat continu.</li>\n",
    "\n",
    "<li>Dans le cas le plus simple, il existe deux résultats, appelés binômes, dont un exemple est de prédire si une tumeur est maligne ou bénigne. D'autres cas ont plus de deux résultats à classer, dans ce cas on parle de multinomial. Un exemple courant de régression logistique multinomiale serait de prédire la classe d'une fleur d'iris entre 3 espèces différentes.</li>\n",
    "\n",
    "<li>Ici, nous utiliserons la régression logistique de base pour prédire une variable binomiale. Cela signifie qu’il n’y a que deux résultats possibles.</li>"
   ]
  },
  {
   "cell_type": "code",
   "execution_count": 7,
   "id": "807cb747",
   "metadata": {},
   "outputs": [
    {
     "name": "stdout",
     "output_type": "stream",
     "text": [
      "[0]\n"
     ]
    }
   ],
   "source": [
    "#Exemple\n",
    "##Obtenez votre propre serveur Python\n",
    "###Voir l'exemple complet en action :\n",
    "\n",
    "import numpy\n",
    "from sklearn import linear_model\n",
    "\n",
    "#Reshaped for Logistic function.\n",
    "X = numpy.array([3.78, 2.44, 2.09, 0.14, 1.72, 1.65, 4.92, 4.37, 4.96, 4.52, 3.69, 5.88]).reshape(-1,1)\n",
    "y = numpy.array([0, 0, 0, 0, 0, 0, 1, 1, 1, 1, 1, 1])\n",
    "\n",
    "logr = linear_model.LogisticRegression()\n",
    "logr.fit(X,y)\n",
    "\n",
    "#predict if tumor is cancerous where the size is 3.46mm:\n",
    "predicted = logr.predict(numpy.array([3.46]).reshape(-1,1))\n",
    "print(predicted)"
   ]
  },
  {
   "cell_type": "markdown",
   "id": "c7452c5b",
   "metadata": {},
   "source": [
    "# Coefficient"
   ]
  },
  {
   "cell_type": "markdown",
   "id": "57fd6192",
   "metadata": {},
   "source": [
    "<li>Dans la régression logistique, le coefficient est la variation attendue du log-probabilité de voir le résultat par unité changer dans X.</li>\n",
    "\n",
    "<li>Cela n'a pas la compréhension la plus intuitive, alors utilisons-le pour créer quelque chose qui a plus de sens, de probabilités.</li>"
   ]
  },
  {
   "cell_type": "code",
   "execution_count": 8,
   "id": "c61cc555",
   "metadata": {},
   "outputs": [
    {
     "name": "stdout",
     "output_type": "stream",
     "text": [
      "[[4.03541657]]\n"
     ]
    }
   ],
   "source": [
    "#Exemple\n",
    "##Voir l'exemple complet en action :\n",
    "\n",
    "import numpy\n",
    "from sklearn import linear_model\n",
    "\n",
    "#Reshaped for Logistic function.\n",
    "X = numpy.array([3.78, 2.44, 2.09, 0.14, 1.72, 1.65, 4.92, 4.37, 4.96, 4.52, 3.69, 5.88]).reshape(-1,1)\n",
    "y = numpy.array([0, 0, 0, 0, 0, 0, 1, 1, 1, 1, 1, 1])\n",
    "\n",
    "logr = linear_model.LogisticRegression()\n",
    "logr.fit(X,y)\n",
    "\n",
    "log_odds = logr.coef_\n",
    "odds = numpy.exp(log_odds)\n",
    "\n",
    "print(odds)"
   ]
  },
  {
   "cell_type": "markdown",
   "id": "75e2e940",
   "metadata": {},
   "source": [
    "Cela nous indique que lorsque la taille d’une tumeur augmente de 1 mm, les chances qu’elle soit cancéreuse augmentent de 4 fois."
   ]
  },
  {
   "cell_type": "markdown",
   "id": "8aeebdf9",
   "metadata": {},
   "source": [
    "# Probabilité"
   ]
  },
  {
   "cell_type": "markdown",
   "id": "5030a8c5",
   "metadata": {},
   "source": [
    "<li>Les valeurs du coefficient et de l’ordonnée à l’origine peuvent être utilisées pour déterminer la probabilité que chaque tumeur soit cancéreuse.</li>\n",
    "\n",
    "<li>Créez une fonction qui utilise les coefficients et les valeurs d'origine du modèle pour renvoyer une nouvelle valeur. Cette nouvelle valeur représente la probabilité que l'observation donnée soit une tumeur :</li>"
   ]
  },
  {
   "cell_type": "code",
   "execution_count": 9,
   "id": "7a6f660c",
   "metadata": {},
   "outputs": [
    {
     "name": "stdout",
     "output_type": "stream",
     "text": [
      "[[0.60749955]\n",
      " [0.19268876]\n",
      " [0.12775886]\n",
      " [0.00955221]\n",
      " [0.08038616]\n",
      " [0.07345637]\n",
      " [0.88362743]\n",
      " [0.77901378]\n",
      " [0.88924409]\n",
      " [0.81293497]\n",
      " [0.57719129]\n",
      " [0.96664243]]\n"
     ]
    }
   ],
   "source": [
    "#Exemple\n",
    "##Voir l'exemple complet en action :\n",
    "\n",
    "import numpy\n",
    "from sklearn import linear_model\n",
    "\n",
    "X = numpy.array([3.78, 2.44, 2.09, 0.14, 1.72, 1.65, 4.92, 4.37, 4.96, 4.52, 3.69, 5.88]).reshape(-1,1)\n",
    "y = numpy.array([0, 0, 0, 0, 0, 0, 1, 1, 1, 1, 1, 1])\n",
    "\n",
    "logr = linear_model.LogisticRegression()\n",
    "logr.fit(X,y)\n",
    "\n",
    "def logit2prob(logr, X):\n",
    "  log_odds = logr.coef_ * X + logr.intercept_\n",
    "  odds = numpy.exp(log_odds)\n",
    "  probability = odds / (1 + odds)\n",
    "  return(probability)\n",
    "\n",
    "print(logit2prob(logr, X))"
   ]
  },
  {
   "cell_type": "markdown",
   "id": "82bdbdd3",
   "metadata": {},
   "source": [
    "<h4>Résultats expliqués</h4>\n",
    "<li>3,78 0,61 La probabilité qu'une tumeur mesurant 3,78 cm soit cancéreuse est de 61 %.</li>\n",
    "\n",
    "<li>2,44 0,19 La probabilité qu'une tumeur mesurant 2,44 cm soit cancéreuse est de 19 %.</li>\n",
    "\n",
    "<li>2,09 0,13 La probabilité qu'une tumeur mesurant 2,09 cm soit cancéreuse est de 13 %.</li>"
   ]
  },
  {
   "cell_type": "code",
   "execution_count": null,
   "id": "92a725c3",
   "metadata": {},
   "outputs": [],
   "source": []
  }
 ],
 "metadata": {
  "kernelspec": {
   "display_name": "Python 3 (ipykernel)",
   "language": "python",
   "name": "python3"
  },
  "language_info": {
   "codemirror_mode": {
    "name": "ipython",
    "version": 3
   },
   "file_extension": ".py",
   "mimetype": "text/x-python",
   "name": "python",
   "nbconvert_exporter": "python",
   "pygments_lexer": "ipython3",
   "version": "3.11.5"
  }
 },
 "nbformat": 4,
 "nbformat_minor": 5
}
