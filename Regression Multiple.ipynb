{
 "cells": [
  {
   "cell_type": "markdown",
   "id": "637d9fce",
   "metadata": {},
   "source": [
    "# Régression multiple"
   ]
  },
  {
   "cell_type": "markdown",
   "id": "7d47ede1",
   "metadata": {},
   "source": [
    "La régression multiple est comme la régression linéaire , mais avec plus d'une valeur indépendante, ce qui signifie que nous essayons de prédire une valeur basée sur deux variables ou plus.\n",
    "\n",
    "Jetez un œil à l’ensemble de données ci-dessous, il contient des informations sur les voitures."
   ]
  },
  {
   "cell_type": "markdown",
   "id": "b264fcf0",
   "metadata": {},
   "source": [
    "<li>À partir du module <b>sklearn</b>, nous utiliserons la <b>LinearRegression()</b> méthode pour créer un objet de régression linéaire.</li>\n",
    "\n",
    "<li>Cet objet a une méthode appelée <b>fit()</b> qui prend les valeurs indépendantes et dépendantes comme paramètres et remplit l'objet de régression avec des données décrivant la relation :</li>"
   ]
  },
  {
   "cell_type": "code",
   "execution_count": 1,
   "id": "57a3b03d",
   "metadata": {},
   "outputs": [
    {
     "data": {
      "text/html": [
       "<div>\n",
       "<style scoped>\n",
       "    .dataframe tbody tr th:only-of-type {\n",
       "        vertical-align: middle;\n",
       "    }\n",
       "\n",
       "    .dataframe tbody tr th {\n",
       "        vertical-align: top;\n",
       "    }\n",
       "\n",
       "    .dataframe thead th {\n",
       "        text-align: right;\n",
       "    }\n",
       "</style>\n",
       "<table border=\"1\" class=\"dataframe\">\n",
       "  <thead>\n",
       "    <tr style=\"text-align: right;\">\n",
       "      <th></th>\n",
       "      <th>Car</th>\n",
       "      <th>Model</th>\n",
       "      <th>Volume</th>\n",
       "      <th>Weight</th>\n",
       "      <th>CO2</th>\n",
       "    </tr>\n",
       "  </thead>\n",
       "  <tbody>\n",
       "    <tr>\n",
       "      <th>0</th>\n",
       "      <td>Toyoty</td>\n",
       "      <td>Aygo</td>\n",
       "      <td>1000</td>\n",
       "      <td>790</td>\n",
       "      <td>99</td>\n",
       "    </tr>\n",
       "    <tr>\n",
       "      <th>1</th>\n",
       "      <td>Mitsubishi</td>\n",
       "      <td>Space Star</td>\n",
       "      <td>1200</td>\n",
       "      <td>1160</td>\n",
       "      <td>95</td>\n",
       "    </tr>\n",
       "    <tr>\n",
       "      <th>2</th>\n",
       "      <td>Skoda</td>\n",
       "      <td>Citigo</td>\n",
       "      <td>1000</td>\n",
       "      <td>929</td>\n",
       "      <td>95</td>\n",
       "    </tr>\n",
       "    <tr>\n",
       "      <th>3</th>\n",
       "      <td>Fiat</td>\n",
       "      <td>500</td>\n",
       "      <td>900</td>\n",
       "      <td>865</td>\n",
       "      <td>90</td>\n",
       "    </tr>\n",
       "    <tr>\n",
       "      <th>4</th>\n",
       "      <td>Mini</td>\n",
       "      <td>Cooper</td>\n",
       "      <td>1500</td>\n",
       "      <td>1140</td>\n",
       "      <td>105</td>\n",
       "    </tr>\n",
       "  </tbody>\n",
       "</table>\n",
       "</div>"
      ],
      "text/plain": [
       "          Car       Model  Volume  Weight  CO2\n",
       "0      Toyoty        Aygo    1000     790   99\n",
       "1  Mitsubishi  Space Star    1200    1160   95\n",
       "2       Skoda      Citigo    1000     929   95\n",
       "3        Fiat         500     900     865   90\n",
       "4        Mini      Cooper    1500    1140  105"
      ]
     },
     "execution_count": 1,
     "metadata": {},
     "output_type": "execute_result"
    }
   ],
   "source": [
    "import pandas\n",
    "from sklearn import linear_model\n",
    "\n",
    "df = pandas.read_csv(\"C:\\\\Users\\\\lenovo\\\\Downloads\\\\data.csv\")\n",
    "\n",
    "df.head()"
   ]
  },
  {
   "cell_type": "code",
   "execution_count": 28,
   "id": "99003039",
   "metadata": {},
   "outputs": [
    {
     "name": "stdout",
     "output_type": "stream",
     "text": [
      "[107.2087328]\n"
     ]
    },
    {
     "name": "stderr",
     "output_type": "stream",
     "text": [
      "C:\\Users\\lenovo\\anaconda3\\Lib\\site-packages\\sklearn\\base.py:464: UserWarning: X does not have valid feature names, but LinearRegression was fitted with feature names\n",
      "  warnings.warn(\n"
     ]
    }
   ],
   "source": [
    "X = df[['Weight', 'Volume']]\n",
    "y = df['CO2']\n",
    "\n",
    "regr = linear_model.LinearRegression()\n",
    "regr.fit(X, y)\n",
    "\n",
    "#predict the CO2 emission of a car where the weight is 2300kg, and the volume is 1300cm3:\n",
    "predictedCO2 = regr.predict([[2300, 1300]])\n",
    "\n",
    "print(predictedCO2)"
   ]
  },
  {
   "cell_type": "code",
   "execution_count": 29,
   "id": "268ff0f1",
   "metadata": {},
   "outputs": [
    {
     "name": "stdout",
     "output_type": "stream",
     "text": [
      "[119.15878811]\n"
     ]
    }
   ],
   "source": [
    "X = df['Weight'].values.reshape(-1, 1)  # Convertit la série en tableau 2D (une colonne)\n",
    "y = df['CO2']\n",
    "\n",
    "regr = linear_model.LinearRegression()\n",
    "regr.fit(X, y)\n",
    "\n",
    "# Prédiction pour un poids de 2300kg\n",
    "predictedCO2 = regr.predict([[2300]])\n",
    "print(predictedCO2)\n"
   ]
  },
  {
   "cell_type": "markdown",
   "id": "2e4da460",
   "metadata": {},
   "source": [
    "# Coefficient"
   ]
  },
  {
   "cell_type": "markdown",
   "id": "aa7f46e6",
   "metadata": {},
   "source": [
    "Le coefficient est un facteur qui décrit la relation avec une variable inconnue.\n",
    "\n",
    "Exemple : si xest une variable, alors 2xest xdeux fois. xest la variable inconnue et le nombre 2est le coefficient.\n",
    "\n",
    "Dans ce cas, on peut demander la valeur du coefficient poids par rapport au CO2, et du volume par rapport au CO2. La ou les réponses que nous obtenons nous indiquent ce qui se passerait si nous augmentions ou diminuions l’une des valeurs indépendantes."
   ]
  },
  {
   "cell_type": "code",
   "execution_count": 4,
   "id": "291ece13",
   "metadata": {},
   "outputs": [
    {
     "name": "stdout",
     "output_type": "stream",
     "text": [
      "[0.00755095 0.00780526]\n"
     ]
    }
   ],
   "source": [
    "import pandas\n",
    "from sklearn import linear_model\n",
    "\n",
    "df = pandas.read_csv(\"C:\\\\Users\\\\lenovo\\\\Downloads\\\\data.csv\")\n",
    "\n",
    "X = df[['Weight', 'Volume']]\n",
    "y = df['CO2']\n",
    "\n",
    "regr = linear_model.LinearRegression()\n",
    "regr.fit(X, y)\n",
    "\n",
    "print(regr.coef_)"
   ]
  },
  {
   "cell_type": "markdown",
   "id": "1990b9f1",
   "metadata": {},
   "source": [
    "<h3>Résultat expliqué</h3>\n",
    "Le tableau de résultats représente les valeurs des coefficients de poids et de volume.\n",
    "\n",
    "Poids : 0,00755095\n",
    "Volume : 0,00780526\n",
    "\n",
    "Ces valeurs nous indiquent que si le poids augmente de 1 kg, l'émission de CO2 augmente de 0,00755095 g.\n",
    "\n",
    "Et si la cylindrée (Volume) du moteur augmente de 1 cm 3 , l'émission de CO2 augmente de 0,00780526 g.\n",
    "\n",
    "Je pense que c'est une estimation juste, mais testons-la !\n",
    "\n",
    "Nous avons déjà prédit que si une voiture équipée d'un moteur de 1 300 cm 3 pèse 2 300 kg, l'émission de CO2 sera d'environ 107 g.\n",
    "\n",
    "Et si on augmentait le poids de 1000kg ?"
   ]
  },
  {
   "cell_type": "code",
   "execution_count": 9,
   "id": "4722135c",
   "metadata": {},
   "outputs": [
    {
     "name": "stdout",
     "output_type": "stream",
     "text": [
      "[114.75968007]\n"
     ]
    },
    {
     "name": "stderr",
     "output_type": "stream",
     "text": [
      "C:\\Users\\lenovo\\anaconda3\\Lib\\site-packages\\sklearn\\base.py:464: UserWarning: X does not have valid feature names, but LinearRegression was fitted with feature names\n",
      "  warnings.warn(\n"
     ]
    }
   ],
   "source": [
    "#Exemple\n",
    "##Copiez l'exemple précédent, mais changez le poids de 2300 à 3300 :\n",
    "\n",
    "import pandas\n",
    "from sklearn import linear_model\n",
    "\n",
    "df = pandas.read_csv(\"C:\\\\Users\\\\lenovo\\\\Downloads\\\\data.csv\")\n",
    "\n",
    "X = df[['Weight', 'Volume']]\n",
    "y = df['CO2']\n",
    "\n",
    "regr = linear_model.LinearRegression()\n",
    "regr.fit(X, y)\n",
    "\n",
    "predictedCO2 = regr.predict([[3300, 1300]])\n",
    "\n",
    "print(predictedCO2)"
   ]
  },
  {
   "cell_type": "markdown",
   "id": "972a74f1",
   "metadata": {},
   "source": [
    "Nous avons prédit qu’une voiture équipée d’un moteur de 1,3 litre et pesant 3 300 kg rejetterait environ 115 grammes de CO2 pour chaque kilomètre parcouru.\n",
    "\n",
    "Ce qui montre que le coefficient de 0,00755095 est correct :\n",
    "\n",
    "107,2087328 + (1000 * 0,00755095) = 114,75968"
   ]
  },
  {
   "cell_type": "code",
   "execution_count": 19,
   "id": "1b797d98",
   "metadata": {},
   "outputs": [
    {
     "data": {
      "text/plain": [
       "\"import matplotlib.pyplot as plt\\n\\n# Tracer le nuage de points des valeurs réelles par rapport aux valeurs prédites\\nplt.figure(figsize=(8, 6))\\nplt.scatter(X.iloc[:, 0], y, color='blue', alpha=0.5)\\nplt.\""
      ]
     },
     "execution_count": 19,
     "metadata": {},
     "output_type": "execute_result"
    }
   ],
   "source": [
    "\"\"\"import matplotlib.pyplot as plt\n",
    "\n",
    "# Tracer le nuage de points des valeurs réelles par rapport aux valeurs prédites\n",
    "plt.figure(figsize=(8, 6))\n",
    "plt.scatter(X.iloc[:, 0], y, color='blue', alpha=0.5)\n",
    "plt.\"\"\""
   ]
  },
  {
   "cell_type": "markdown",
   "id": "36a8c3f7",
   "metadata": {},
   "source": [
    "# Visualisation du modèle de régression linéaire avec un diagramme"
   ]
  },
  {
   "cell_type": "markdown",
   "id": "8b4141f1",
   "metadata": {},
   "source": [
    "<li>Pour visualiser le modèle de régression linéaire que vous avez entraîné et observer la relation entre les variables prédictives et la variable cible, vous pouvez créer un diagramme de dispersion avec la ligne de régression superposée. Voici le code Python pour le faire :</li>"
   ]
  },
  {
   "cell_type": "code",
   "execution_count": 36,
   "id": "4bf2aa31",
   "metadata": {},
   "outputs": [
    {
     "data": {
      "image/png": "[encoded data removed]",
      "text/plain": [
       "<Figure size 640x480 with 1 Axes>"
      ]
     },
     "metadata": {},
     "output_type": "display_data"
    }
   ],
   "source": [
    "import numpy as np\n",
    "import pandas as pd\n",
    "from sklearn import linear_model\n",
    "import matplotlib.pyplot as plt\n",
    "\n",
    "# Lire les données du fichier CSV\n",
    "df = pd.read_csv(\"C:\\\\Users\\\\lenovo\\\\Downloads\\\\data.csv\")\n",
    "\n",
    "# Sélectionner les caractéristiques et la variable cible\n",
    "X = df[['Weight', 'Volume']]\n",
    "y = df['CO2']\n",
    "\n",
    "# Entraîner le modèle de régression linéaire\n",
    "regr = linear_model.LinearRegression()\n",
    "regr.fit(X, y)\n",
    "\n",
    "# Obtenir les coefficients (pente et ordonnée à l'origine)\n",
    "pente = regr.coef_[0]  # Coefficient pour la colonne 'Weight' (en supposant la première position)\n",
    "ordonnee_origine = regr.intercept_\n",
    "\n",
    "# Générer des points de données pour la ligne de régression\n",
    "# Supposons que vous voulez tracer la ligne dans la plage de vos données existantes\n",
    "poids_min = X['Weight'].min()\n",
    "poids_max = X['Weight'].max()\n",
    "plage_poids = np.linspace(poids_min, poids_max, 100)  # 100 points\n",
    "\n",
    "# Calculer les valeurs prédites de CO2 pour la plage de poids\n",
    "co2_predits = pente * plage_poids + ordonnee_origine\n",
    "\n",
    "# Créer le diagramme\n",
    "plt.scatter(X['Weight'], y, color='blue', label='Émission réelle de CO2')\n",
    "plt.plot(plage_poids, co2_predits, color='red', label='Émission de CO2 prédite')\n",
    "\n",
    "# Ajouter des étiquettes et un titre\n",
    "plt.xlabel('Poids (kg)')\n",
    "plt.ylabel('Émission de CO2')\n",
    "plt.title('Régression linéaire de l\\'émission de CO2 sur le poids et le volume')\n",
    "\n",
    "# Ajouter une légende\n",
    "plt.legend()\n",
    "\n",
    "# Afficher le diagramme\n",
    "plt.grid(True)\n",
    "plt.show()\n"
   ]
  },
  {
   "cell_type": "code",
   "execution_count": null,
   "id": "167e4936",
   "metadata": {},
   "outputs": [],
   "source": []
  }
 ],
 "metadata": {
  "kernelspec": {
   "display_name": "Python 3 (ipykernel)",
   "language": "python",
   "name": "python3"
  },
  "language_info": {
   "codemirror_mode": {
    "name": "ipython",
    "version": 3
   },
   "file_extension": ".py",
   "mimetype": "text/x-python",
   "name": "python",
   "nbconvert_exporter": "python",
   "pygments_lexer": "ipython3",
   "version": "3.11.5"
  }
 },
 "nbformat": 4,
 "nbformat_minor": 5
}
